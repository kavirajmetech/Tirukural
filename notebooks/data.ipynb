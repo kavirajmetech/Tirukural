{
 "cells": [
  {
   "cell_type": "code",
   "execution_count": 7,
   "metadata": {},
   "outputs": [],
   "source": [
    "import re\n",
    "import random"
   ]
  },
  {
   "cell_type": "code",
   "execution_count": 2,
   "metadata": {},
   "outputs": [],
   "source": [
    "def extract_text(filename):\n",
    "    text=[]\n",
    "    with open(filename, 'r', encoding='utf-8') as file:\n",
    "        text= file.readlines()\n",
    "    return text"
   ]
  },
  {
   "cell_type": "code",
   "execution_count": null,
   "metadata": {},
   "outputs": [],
   "source": [
    "valid_data=extract_text(r'main_train_valid.txt') #replace with correct path\n",
    "train_data=extract_text(r'main_train_train.txt') \n",
    "parimelazhagar_vurai=extract_text(r'../datasets/parimelazhagar.txt')"
   ]
  },
  {
   "cell_type": "code",
   "execution_count": 15,
   "metadata": {},
   "outputs": [],
   "source": [
    "tirukural_tokens=set()\n",
    "def get_parimelazhagar_merged_tokens(list):\n",
    "    data=[]\n",
    "    pattern=re.compile(r'[ \\n$().,:;?! ]+')  \n",
    "    for item in list:\n",
    "        a=item.split(\"=\")\n",
    "        if(len(a)!=2):\n",
    "            continue\n",
    "        b = re.sub(r'[^ஃ-உஂ-ௐஂ-௿\\s]', '', a[0]) \n",
    "        b = re.sub(r'\\s+', ' ', b)\n",
    "        c = re.sub(r'[^ஃ-உஂ-ௐஂ-௿\\s]', '', a[1]) \n",
    "        c = re.sub(r'\\s+', ' ', c)\n",
    "        b,c=b.split(),c.split()\n",
    "        for i in b:\n",
    "            tirukural_tokens.add(i)  \n",
    "        for _ in range(20):\n",
    "            merged = []\n",
    "            i, j = 0, 0\n",
    "            while i < len(b) and j< len(c):\n",
    "                if random.choice([False,False,True,False,False,True,False,False,True,True,True]):\n",
    "                    merged.append(b[i])\n",
    "                    i+=1\n",
    "                else:\n",
    "                    merged.append(c[j])\n",
    "                    j+=1\n",
    "            \n",
    "            merged.extend(b[i:])\n",
    "            merged.extend(c[j:])\n",
    "                \n",
    "            data.append(merged)\n",
    "    return data"
   ]
  },
  {
   "cell_type": "code",
   "execution_count": null,
   "metadata": {},
   "outputs": [],
   "source": [
    "def tokenize(sentences):\n",
    "    alltokens = []\n",
    "    for sentence in sentences:\n",
    "        cleaned_text = re.sub(r'[^ஃ-உஂ-ௐஂ-௿\\s]', '', sentence) \n",
    "        cleaned_text = re.sub(r'\\s+', ' ', cleaned_text)\n",
    "        cleaned_text = cleaned_text.strip()  \n",
    "        tokens = cleaned_text.split()\n",
    "        alltokens.append(tokens)\n",
    "    return alltokens"
   ]
  },
  {
   "cell_type": "code",
   "execution_count": null,
   "metadata": {},
   "outputs": [],
   "source": [
    "valid_tokens=tokenize(valid_data)\n",
    "train_tokens=tokenize(train_data)\n",
    "parimelazhagar_merged_tokens=get_parimelazhagar_merged_tokens(parimelazhagar_vurai)"
   ]
  },
  {
   "cell_type": "code",
   "execution_count": 16,
   "metadata": {},
   "outputs": [],
   "source": [
    "parimelazhagar_merged_tokens=get_parimelazhagar_merged_tokens(parimelazhagar_vurai)"
   ]
  },
  {
   "cell_type": "code",
   "execution_count": null,
   "metadata": {},
   "outputs": [],
   "source": []
  }
 ],
 "metadata": {
  "kernelspec": {
   "display_name": "base",
   "language": "python",
   "name": "python3"
  },
  "language_info": {
   "codemirror_mode": {
    "name": "ipython",
    "version": 3
   },
   "file_extension": ".py",
   "mimetype": "text/x-python",
   "name": "python",
   "nbconvert_exporter": "python",
   "pygments_lexer": "ipython3",
   "version": "3.11.5"
  }
 },
 "nbformat": 4,
 "nbformat_minor": 2
}
